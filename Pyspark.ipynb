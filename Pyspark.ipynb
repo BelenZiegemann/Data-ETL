{
  "nbformat": 4,
  "nbformat_minor": 0,
  "metadata": {
    "colab": {
      "provenance": [],
      "authorship_tag": "ABX9TyOVaWY04ByHRbIU0cHEis4+",
      "include_colab_link": true
    },
    "kernelspec": {
      "name": "python3",
      "display_name": "Python 3"
    },
    "language_info": {
      "name": "python"
    }
  },
  "cells": [
    {
      "cell_type": "markdown",
      "metadata": {
        "id": "view-in-github",
        "colab_type": "text"
      },
      "source": [
        "<a href=\"https://colab.research.google.com/github/BelenZiegemann/Data-ETL/blob/main/Pyspark.ipynb\" target=\"_parent\"><img src=\"https://colab.research.google.com/assets/colab-badge.svg\" alt=\"Open In Colab\"/></a>"
      ]
    },
    {
      "cell_type": "code",
      "execution_count": null,
      "metadata": {
        "colab": {
          "base_uri": "https://localhost:8080/"
        },
        "id": "xRSsHLEaf3qj",
        "outputId": "d4780d4d-3b24-4647-8cc9-e8dcb9789d57"
      },
      "outputs": [
        {
          "output_type": "stream",
          "name": "stdout",
          "text": [
            "Collecting pyspark\n",
            "  Downloading pyspark-3.5.0.tar.gz (316.9 MB)\n",
            "\u001b[2K     \u001b[90m━━━━━━━━━━━━━━━━━━━━━━━━━━━━━━━━━━━━━━━━\u001b[0m \u001b[32m316.9/316.9 MB\u001b[0m \u001b[31m3.5 MB/s\u001b[0m eta \u001b[36m0:00:00\u001b[0m\n",
            "\u001b[?25h  Preparing metadata (setup.py) ... \u001b[?25l\u001b[?25hdone\n",
            "Requirement already satisfied: py4j==0.10.9.7 in /usr/local/lib/python3.10/dist-packages (from pyspark) (0.10.9.7)\n",
            "Building wheels for collected packages: pyspark\n",
            "  Building wheel for pyspark (setup.py) ... \u001b[?25l\u001b[?25hdone\n",
            "  Created wheel for pyspark: filename=pyspark-3.5.0-py2.py3-none-any.whl size=317425345 sha256=f4d12f4f518cab6982043923290d0534df56126ecfb188c2453e4b0bbf23cee3\n",
            "  Stored in directory: /root/.cache/pip/wheels/41/4e/10/c2cf2467f71c678cfc8a6b9ac9241e5e44a01940da8fbb17fc\n",
            "Successfully built pyspark\n",
            "Installing collected packages: pyspark\n",
            "Successfully installed pyspark-3.5.0\n"
          ]
        }
      ],
      "source": [
        "!pip install pyspark"
      ]
    },
    {
      "cell_type": "markdown",
      "source": [
        "## Crear sesión de spark"
      ],
      "metadata": {
        "id": "Uws2hoyWgolj"
      }
    },
    {
      "cell_type": "code",
      "source": [
        "from pyspark.sql import SparkSession\n",
        "from pyspark import SparkContext\n",
        "\n",
        "Sesion = SparkSession\\\n",
        "        .builder \\\n",
        "        .appName('Spark')\\\n",
        "        .getOrCreate()"
      ],
      "metadata": {
        "id": "KJuAdOswg10O"
      },
      "execution_count": null,
      "outputs": []
    },
    {
      "cell_type": "code",
      "source": [
        "spContext = Sesion.sparkContext"
      ],
      "metadata": {
        "id": "qgaNtW-IiA2U"
      },
      "execution_count": null,
      "outputs": []
    },
    {
      "cell_type": "markdown",
      "source": [
        "## Carga de datos"
      ],
      "metadata": {
        "id": "fCEaUZ_1iWuX"
      }
    },
    {
      "cell_type": "code",
      "source": [
        "data = Sesion.read.csv('cars.csv', header=True, sep=';')\n",
        "data.show(5)"
      ],
      "metadata": {
        "colab": {
          "base_uri": "https://localhost:8080/"
        },
        "id": "urn4Veu3ib_H",
        "outputId": "36d25bd9-46fd-4fea-8eb9-e9270e0de67d"
      },
      "execution_count": null,
      "outputs": [
        {
          "output_type": "stream",
          "name": "stdout",
          "text": [
            "+--------------------+------+---------+------------+----------+------+------------+-----+------+\n",
            "|                 Car|   MPG|Cylinders|Displacement|Horsepower|Weight|Acceleration|Model|Origin|\n",
            "+--------------------+------+---------+------------+----------+------+------------+-----+------+\n",
            "|              STRING|DOUBLE|      INT|      DOUBLE|    DOUBLE|DOUBLE|      DOUBLE|  INT|   CAT|\n",
            "|Chevrolet Chevell...|  18.0|        8|       307.0|     130.0| 3504.|        12.0|   70|    US|\n",
            "|   Buick Skylark 320|  15.0|        8|       350.0|     165.0| 3693.|        11.5|   70|    US|\n",
            "|  Plymouth Satellite|  18.0|        8|       318.0|     150.0| 3436.|        11.0|   70|    US|\n",
            "|       AMC Rebel SST|  16.0|        8|       304.0|     150.0| 3433.|        12.0|   70|    US|\n",
            "+--------------------+------+---------+------------+----------+------+------------+-----+------+\n",
            "only showing top 5 rows\n",
            "\n"
          ]
        }
      ]
    },
    {
      "cell_type": "markdown",
      "source": [
        "## Conociendo los datos"
      ],
      "metadata": {
        "id": "5MGgy0QRjHP2"
      }
    },
    {
      "cell_type": "code",
      "source": [
        "data.printSchema()"
      ],
      "metadata": {
        "colab": {
          "base_uri": "https://localhost:8080/"
        },
        "id": "DH41phiLjKLT",
        "outputId": "0f35e87b-7858-4c26-fc34-809955a80ea7"
      },
      "execution_count": null,
      "outputs": [
        {
          "output_type": "stream",
          "name": "stdout",
          "text": [
            "root\n",
            " |-- Car: string (nullable = true)\n",
            " |-- MPG: string (nullable = true)\n",
            " |-- Cylinders: string (nullable = true)\n",
            " |-- Displacement: string (nullable = true)\n",
            " |-- Horsepower: string (nullable = true)\n",
            " |-- Weight: string (nullable = true)\n",
            " |-- Acceleration: string (nullable = true)\n",
            " |-- Model: string (nullable = true)\n",
            " |-- Origin: string (nullable = true)\n",
            "\n"
          ]
        }
      ]
    },
    {
      "cell_type": "code",
      "source": [
        "data.columns"
      ],
      "metadata": {
        "colab": {
          "base_uri": "https://localhost:8080/"
        },
        "id": "XMfmRl66jPKe",
        "outputId": "79b5cb44-9e80-4f81-87cf-8619448a882c"
      },
      "execution_count": null,
      "outputs": [
        {
          "output_type": "execute_result",
          "data": {
            "text/plain": [
              "['Car',\n",
              " 'MPG',\n",
              " 'Cylinders',\n",
              " 'Displacement',\n",
              " 'Horsepower',\n",
              " 'Weight',\n",
              " 'Acceleration',\n",
              " 'Model',\n",
              " 'Origin']"
            ]
          },
          "metadata": {},
          "execution_count": 6
        }
      ]
    },
    {
      "cell_type": "markdown",
      "source": [
        "## Selección de columnas"
      ],
      "metadata": {
        "id": "WkGM5uanjXKX"
      }
    },
    {
      "cell_type": "code",
      "source": [
        "from os import truncate\n",
        "#Metodo 1- Truncate para que me muestre toda la cadena de string de la columna.\n",
        "\n",
        "data.select(data.Car).show(truncate=False)"
      ],
      "metadata": {
        "colab": {
          "base_uri": "https://localhost:8080/"
        },
        "id": "euzKNdSajbdZ",
        "outputId": "42b8340d-e1fd-421c-d735-a15658c97015"
      },
      "execution_count": null,
      "outputs": [
        {
          "output_type": "stream",
          "name": "stdout",
          "text": [
            "+--------------------------------+\n",
            "|Car                             |\n",
            "+--------------------------------+\n",
            "|STRING                          |\n",
            "|Chevrolet Chevelle Malibu       |\n",
            "|Buick Skylark 320               |\n",
            "|Plymouth Satellite              |\n",
            "|AMC Rebel SST                   |\n",
            "|Ford Torino                     |\n",
            "|Ford Galaxie 500                |\n",
            "|Chevrolet Impala                |\n",
            "|Plymouth Fury iii               |\n",
            "|Pontiac Catalina                |\n",
            "|AMC Ambassador DPL              |\n",
            "|Citroen DS-21 Pallas            |\n",
            "|Chevrolet Chevelle Concours (sw)|\n",
            "|Ford Torino (sw)                |\n",
            "|Plymouth Satellite (sw)         |\n",
            "|AMC Rebel SST (sw)              |\n",
            "|Dodge Challenger SE             |\n",
            "|Plymouth 'Cuda 340              |\n",
            "|Ford Mustang Boss 302           |\n",
            "|Chevrolet Monte Carlo           |\n",
            "+--------------------------------+\n",
            "only showing top 20 rows\n",
            "\n"
          ]
        }
      ]
    },
    {
      "cell_type": "code",
      "source": [
        "#Metodo 2\n",
        "\n",
        "data.select(data['Car']).show(truncate=False)"
      ],
      "metadata": {
        "colab": {
          "base_uri": "https://localhost:8080/"
        },
        "id": "BaIzW7oWkBzl",
        "outputId": "a10229cd-204c-4c34-c08f-94319ef8e935"
      },
      "execution_count": null,
      "outputs": [
        {
          "output_type": "stream",
          "name": "stdout",
          "text": [
            "+--------------------------------+\n",
            "|Car                             |\n",
            "+--------------------------------+\n",
            "|STRING                          |\n",
            "|Chevrolet Chevelle Malibu       |\n",
            "|Buick Skylark 320               |\n",
            "|Plymouth Satellite              |\n",
            "|AMC Rebel SST                   |\n",
            "|Ford Torino                     |\n",
            "|Ford Galaxie 500                |\n",
            "|Chevrolet Impala                |\n",
            "|Plymouth Fury iii               |\n",
            "|Pontiac Catalina                |\n",
            "|AMC Ambassador DPL              |\n",
            "|Citroen DS-21 Pallas            |\n",
            "|Chevrolet Chevelle Concours (sw)|\n",
            "|Ford Torino (sw)                |\n",
            "|Plymouth Satellite (sw)         |\n",
            "|AMC Rebel SST (sw)              |\n",
            "|Dodge Challenger SE             |\n",
            "|Plymouth 'Cuda 340              |\n",
            "|Ford Mustang Boss 302           |\n",
            "|Chevrolet Monte Carlo           |\n",
            "+--------------------------------+\n",
            "only showing top 20 rows\n",
            "\n"
          ]
        }
      ]
    },
    {
      "cell_type": "code",
      "source": [
        "#Metodo 3\n",
        "from pyspark.sql.functions import col\n",
        "data.select(col('car')).show(truncate=False)"
      ],
      "metadata": {
        "colab": {
          "base_uri": "https://localhost:8080/"
        },
        "id": "aLWIsPiHkQxS",
        "outputId": "557ab26a-2b5c-4749-b322-9e181e2eb0f2"
      },
      "execution_count": null,
      "outputs": [
        {
          "output_type": "stream",
          "name": "stdout",
          "text": [
            "+--------------------------------+\n",
            "|car                             |\n",
            "+--------------------------------+\n",
            "|STRING                          |\n",
            "|Chevrolet Chevelle Malibu       |\n",
            "|Buick Skylark 320               |\n",
            "|Plymouth Satellite              |\n",
            "|AMC Rebel SST                   |\n",
            "|Ford Torino                     |\n",
            "|Ford Galaxie 500                |\n",
            "|Chevrolet Impala                |\n",
            "|Plymouth Fury iii               |\n",
            "|Pontiac Catalina                |\n",
            "|AMC Ambassador DPL              |\n",
            "|Citroen DS-21 Pallas            |\n",
            "|Chevrolet Chevelle Concours (sw)|\n",
            "|Ford Torino (sw)                |\n",
            "|Plymouth Satellite (sw)         |\n",
            "|AMC Rebel SST (sw)              |\n",
            "|Dodge Challenger SE             |\n",
            "|Plymouth 'Cuda 340              |\n",
            "|Ford Mustang Boss 302           |\n",
            "|Chevrolet Monte Carlo           |\n",
            "+--------------------------------+\n",
            "only showing top 20 rows\n",
            "\n"
          ]
        }
      ]
    },
    {
      "cell_type": "code",
      "source": [
        "#Método 1 - Selección múltiple\n",
        "\n",
        "data.select(data.Car, data.Cylinders).show(truncate=False)"
      ],
      "metadata": {
        "colab": {
          "base_uri": "https://localhost:8080/"
        },
        "id": "8dke5mMTknBK",
        "outputId": "510227e0-c9fb-4c4e-be77-f8ddcd199887"
      },
      "execution_count": null,
      "outputs": [
        {
          "output_type": "stream",
          "name": "stdout",
          "text": [
            "+--------------------------------+---------+\n",
            "|Car                             |Cylinders|\n",
            "+--------------------------------+---------+\n",
            "|STRING                          |INT      |\n",
            "|Chevrolet Chevelle Malibu       |8        |\n",
            "|Buick Skylark 320               |8        |\n",
            "|Plymouth Satellite              |8        |\n",
            "|AMC Rebel SST                   |8        |\n",
            "|Ford Torino                     |8        |\n",
            "|Ford Galaxie 500                |8        |\n",
            "|Chevrolet Impala                |8        |\n",
            "|Plymouth Fury iii               |8        |\n",
            "|Pontiac Catalina                |8        |\n",
            "|AMC Ambassador DPL              |8        |\n",
            "|Citroen DS-21 Pallas            |4        |\n",
            "|Chevrolet Chevelle Concours (sw)|8        |\n",
            "|Ford Torino (sw)                |8        |\n",
            "|Plymouth Satellite (sw)         |8        |\n",
            "|AMC Rebel SST (sw)              |8        |\n",
            "|Dodge Challenger SE             |8        |\n",
            "|Plymouth 'Cuda 340              |8        |\n",
            "|Ford Mustang Boss 302           |8        |\n",
            "|Chevrolet Monte Carlo           |8        |\n",
            "+--------------------------------+---------+\n",
            "only showing top 20 rows\n",
            "\n"
          ]
        }
      ]
    },
    {
      "cell_type": "code",
      "source": [
        "#Metodo 2 - Seleccion multiple\n",
        "\n",
        "data.select(data['car'], data['cylinders']).show(truncate=False)"
      ],
      "metadata": {
        "colab": {
          "base_uri": "https://localhost:8080/"
        },
        "id": "sQ56UbmSlEji",
        "outputId": "d8241ad5-1d22-43a5-827b-5e06085de7b8"
      },
      "execution_count": null,
      "outputs": [
        {
          "output_type": "stream",
          "name": "stdout",
          "text": [
            "+--------------------------------+---------+\n",
            "|car                             |cylinders|\n",
            "+--------------------------------+---------+\n",
            "|STRING                          |INT      |\n",
            "|Chevrolet Chevelle Malibu       |8        |\n",
            "|Buick Skylark 320               |8        |\n",
            "|Plymouth Satellite              |8        |\n",
            "|AMC Rebel SST                   |8        |\n",
            "|Ford Torino                     |8        |\n",
            "|Ford Galaxie 500                |8        |\n",
            "|Chevrolet Impala                |8        |\n",
            "|Plymouth Fury iii               |8        |\n",
            "|Pontiac Catalina                |8        |\n",
            "|AMC Ambassador DPL              |8        |\n",
            "|Citroen DS-21 Pallas            |4        |\n",
            "|Chevrolet Chevelle Concours (sw)|8        |\n",
            "|Ford Torino (sw)                |8        |\n",
            "|Plymouth Satellite (sw)         |8        |\n",
            "|AMC Rebel SST (sw)              |8        |\n",
            "|Dodge Challenger SE             |8        |\n",
            "|Plymouth 'Cuda 340              |8        |\n",
            "|Ford Mustang Boss 302           |8        |\n",
            "|Chevrolet Monte Carlo           |8        |\n",
            "+--------------------------------+---------+\n",
            "only showing top 20 rows\n",
            "\n"
          ]
        }
      ]
    },
    {
      "cell_type": "code",
      "source": [
        "#Metodo 3 - Seleccion multiple\n",
        "from pyspark.sql.functions import col\n",
        "data.select(col('car'), col('cylinders')).show(truncate=False)"
      ],
      "metadata": {
        "colab": {
          "base_uri": "https://localhost:8080/"
        },
        "id": "R6YG78whlkcR",
        "outputId": "58f27ae1-7de4-45e9-92fe-f55f3be8661f"
      },
      "execution_count": null,
      "outputs": [
        {
          "output_type": "stream",
          "name": "stdout",
          "text": [
            "+--------------------------------+---------+\n",
            "|car                             |cylinders|\n",
            "+--------------------------------+---------+\n",
            "|STRING                          |INT      |\n",
            "|Chevrolet Chevelle Malibu       |8        |\n",
            "|Buick Skylark 320               |8        |\n",
            "|Plymouth Satellite              |8        |\n",
            "|AMC Rebel SST                   |8        |\n",
            "|Ford Torino                     |8        |\n",
            "|Ford Galaxie 500                |8        |\n",
            "|Chevrolet Impala                |8        |\n",
            "|Plymouth Fury iii               |8        |\n",
            "|Pontiac Catalina                |8        |\n",
            "|AMC Ambassador DPL              |8        |\n",
            "|Citroen DS-21 Pallas            |4        |\n",
            "|Chevrolet Chevelle Concours (sw)|8        |\n",
            "|Ford Torino (sw)                |8        |\n",
            "|Plymouth Satellite (sw)         |8        |\n",
            "|AMC Rebel SST (sw)              |8        |\n",
            "|Dodge Challenger SE             |8        |\n",
            "|Plymouth 'Cuda 340              |8        |\n",
            "|Ford Mustang Boss 302           |8        |\n",
            "|Chevrolet Monte Carlo           |8        |\n",
            "+--------------------------------+---------+\n",
            "only showing top 20 rows\n",
            "\n"
          ]
        }
      ]
    },
    {
      "cell_type": "markdown",
      "source": [
        "## Agregar columnas"
      ],
      "metadata": {
        "id": "qDEegQmul_Ns"
      }
    },
    {
      "cell_type": "code",
      "source": [
        "#Caso 1\n",
        "\n",
        "from pyspark.sql.functions import lit\n",
        "\n",
        "df = data.withColumn('First_Column', lit(1))\n",
        "df.show(5, truncate=False)"
      ],
      "metadata": {
        "colab": {
          "base_uri": "https://localhost:8080/"
        },
        "id": "0RuJUNPhmBMA",
        "outputId": "3b898d6a-a5cb-44aa-cb04-f262ed73d84a"
      },
      "execution_count": null,
      "outputs": [
        {
          "output_type": "stream",
          "name": "stdout",
          "text": [
            "+-------------------------+------+---------+------------+----------+------+------------+-----+------+------------+\n",
            "|Car                      |MPG   |Cylinders|Displacement|Horsepower|Weight|Acceleration|Model|Origin|First_Column|\n",
            "+-------------------------+------+---------+------------+----------+------+------------+-----+------+------------+\n",
            "|STRING                   |DOUBLE|INT      |DOUBLE      |DOUBLE    |DOUBLE|DOUBLE      |INT  |CAT   |1           |\n",
            "|Chevrolet Chevelle Malibu|18.0  |8        |307.0       |130.0     |3504. |12.0        |70   |US    |1           |\n",
            "|Buick Skylark 320        |15.0  |8        |350.0       |165.0     |3693. |11.5        |70   |US    |1           |\n",
            "|Plymouth Satellite       |18.0  |8        |318.0       |150.0     |3436. |11.0        |70   |US    |1           |\n",
            "|AMC Rebel SST            |16.0  |8        |304.0       |150.0     |3433. |12.0        |70   |US    |1           |\n",
            "+-------------------------+------+---------+------------+----------+------+------------+-----+------+------------+\n",
            "only showing top 5 rows\n",
            "\n"
          ]
        }
      ]
    },
    {
      "cell_type": "code",
      "source": [
        "#Caso 2 - Agregar 2 columnas\n",
        "\n",
        "from pyspark.sql.functions import lit\n",
        "\n",
        "df = data.withColumn('Second_Column', lit(2)).withColumn('Third_Column', lit(3))\n",
        "df.show(5, truncate=False)"
      ],
      "metadata": {
        "colab": {
          "base_uri": "https://localhost:8080/"
        },
        "id": "cLPXVF2Rmi6O",
        "outputId": "f85bcce7-441d-4199-adec-f350b4efb69f"
      },
      "execution_count": null,
      "outputs": [
        {
          "output_type": "stream",
          "name": "stdout",
          "text": [
            "+-------------------------+------+---------+------------+----------+------+------------+-----+------+-------------+------------+\n",
            "|Car                      |MPG   |Cylinders|Displacement|Horsepower|Weight|Acceleration|Model|Origin|Second_Column|Third_Column|\n",
            "+-------------------------+------+---------+------------+----------+------+------------+-----+------+-------------+------------+\n",
            "|STRING                   |DOUBLE|INT      |DOUBLE      |DOUBLE    |DOUBLE|DOUBLE      |INT  |CAT   |2            |3           |\n",
            "|Chevrolet Chevelle Malibu|18.0  |8        |307.0       |130.0     |3504. |12.0        |70   |US    |2            |3           |\n",
            "|Buick Skylark 320        |15.0  |8        |350.0       |165.0     |3693. |11.5        |70   |US    |2            |3           |\n",
            "|Plymouth Satellite       |18.0  |8        |318.0       |150.0     |3436. |11.0        |70   |US    |2            |3           |\n",
            "|AMC Rebel SST            |16.0  |8        |304.0       |150.0     |3433. |12.0        |70   |US    |2            |3           |\n",
            "+-------------------------+------+---------+------------+----------+------+------------+-----+------+-------------+------------+\n",
            "only showing top 5 rows\n",
            "\n"
          ]
        }
      ]
    },
    {
      "cell_type": "markdown",
      "source": [
        "## Agrupar"
      ],
      "metadata": {
        "id": "5S2rxQOPnIyU"
      }
    },
    {
      "cell_type": "code",
      "source": [
        "df.groupBy('Origin').count().show(5)"
      ],
      "metadata": {
        "colab": {
          "base_uri": "https://localhost:8080/"
        },
        "id": "d_Dxgx5VnMAz",
        "outputId": "f8ce096a-bdcd-4e9f-ca3a-6e0aeea9bc51"
      },
      "execution_count": null,
      "outputs": [
        {
          "output_type": "stream",
          "name": "stdout",
          "text": [
            "+------+-----+\n",
            "|Origin|count|\n",
            "+------+-----+\n",
            "|Europe|   73|\n",
            "|    US|  254|\n",
            "|   CAT|    1|\n",
            "| Japan|   79|\n",
            "+------+-----+\n",
            "\n"
          ]
        }
      ]
    },
    {
      "cell_type": "code",
      "source": [
        "df.groupBy('Horsepower', 'Origin').count().show(5)"
      ],
      "metadata": {
        "colab": {
          "base_uri": "https://localhost:8080/"
        },
        "id": "Oq11WUu6naP0",
        "outputId": "fa90f5bd-9489-4c9f-c0aa-88e851098c34"
      },
      "execution_count": null,
      "outputs": [
        {
          "output_type": "stream",
          "name": "stdout",
          "text": [
            "+----------+------+-----+\n",
            "|Horsepower|Origin|count|\n",
            "+----------+------+-----+\n",
            "|     81.00|    US|    1|\n",
            "|     149.0|    US|    1|\n",
            "|     120.0|    US|    2|\n",
            "|     96.00|    US|    1|\n",
            "|     198.0|    US|    2|\n",
            "+----------+------+-----+\n",
            "only showing top 5 rows\n",
            "\n"
          ]
        }
      ]
    },
    {
      "cell_type": "markdown",
      "source": [
        "## Eliminar columnas"
      ],
      "metadata": {
        "id": "KZ8aejWonxZ7"
      }
    },
    {
      "cell_type": "code",
      "source": [
        "df = df.drop('Second_Column', 'Third_Column')\n",
        "df.show(5)"
      ],
      "metadata": {
        "colab": {
          "base_uri": "https://localhost:8080/"
        },
        "id": "6ZtnrYLSnwl2",
        "outputId": "b9b6731f-006e-4191-d623-d57d9c32b765"
      },
      "execution_count": null,
      "outputs": [
        {
          "output_type": "stream",
          "name": "stdout",
          "text": [
            "+--------------------+------+---------+------------+----------+------+------------+-----+------+\n",
            "|                 Car|   MPG|Cylinders|Displacement|Horsepower|Weight|Acceleration|Model|Origin|\n",
            "+--------------------+------+---------+------------+----------+------+------------+-----+------+\n",
            "|              STRING|DOUBLE|      INT|      DOUBLE|    DOUBLE|DOUBLE|      DOUBLE|  INT|   CAT|\n",
            "|Chevrolet Chevell...|  18.0|        8|       307.0|     130.0| 3504.|        12.0|   70|    US|\n",
            "|   Buick Skylark 320|  15.0|        8|       350.0|     165.0| 3693.|        11.5|   70|    US|\n",
            "|  Plymouth Satellite|  18.0|        8|       318.0|     150.0| 3436.|        11.0|   70|    US|\n",
            "|       AMC Rebel SST|  16.0|        8|       304.0|     150.0| 3433.|        12.0|   70|    US|\n",
            "+--------------------+------+---------+------------+----------+------+------------+-----+------+\n",
            "only showing top 5 rows\n",
            "\n"
          ]
        }
      ]
    },
    {
      "cell_type": "code",
      "source": [
        "df"
      ],
      "metadata": {
        "colab": {
          "base_uri": "https://localhost:8080/"
        },
        "id": "wQmA_pxpoJra",
        "outputId": "0f02b9a6-6aae-4270-a94d-999b334fa183"
      },
      "execution_count": null,
      "outputs": [
        {
          "output_type": "execute_result",
          "data": {
            "text/plain": [
              "DataFrame[Car: string, MPG: string, Cylinders: string, Displacement: string, Horsepower: string, Weight: string, Acceleration: string, Model: string, Origin: string]"
            ]
          },
          "metadata": {},
          "execution_count": 21
        }
      ]
    },
    {
      "cell_type": "markdown",
      "source": [
        "## Ordenar filas"
      ],
      "metadata": {
        "id": "pWQ8MlXooMCP"
      }
    },
    {
      "cell_type": "code",
      "source": [
        "df.orderBy('Cylinders').show(truncate=False)"
      ],
      "metadata": {
        "colab": {
          "base_uri": "https://localhost:8080/"
        },
        "id": "Ly3mtRlIoLXw",
        "outputId": "bc6ddfc2-9482-4de6-9ec0-bf4e8aa8e943"
      },
      "execution_count": null,
      "outputs": [
        {
          "output_type": "stream",
          "name": "stdout",
          "text": [
            "+---------------------------+----+---------+------------+----------+------+------------+-----+------+\n",
            "|Car                        |MPG |Cylinders|Displacement|Horsepower|Weight|Acceleration|Model|Origin|\n",
            "+---------------------------+----+---------+------------+----------+------+------------+-----+------+\n",
            "|Mazda RX2 Coupe            |19.0|3        |70.00       |97.00     |2330. |13.5        |72   |Japan |\n",
            "|Mazda RX3                  |18.0|3        |70.00       |90.00     |2124. |13.5        |73   |Japan |\n",
            "|Mazda RX-4                 |21.5|3        |80.00       |110.0     |2720. |13.5        |77   |Japan |\n",
            "|Mazda RX-7 GS              |23.7|3        |70.00       |100.0     |2420. |12.5        |80   |Japan |\n",
            "|Ford Pinto Runabout        |21.0|4        |122.0       |86.00     |2226. |16.5        |72   |US    |\n",
            "|Chevrolet Vega (sw)        |22.0|4        |140.0       |72.00     |2408. |19.0        |71   |US    |\n",
            "|Toyota Corolla Mark ii     |24.0|4        |113.0       |95.00     |2372. |15.0        |70   |Japan |\n",
            "|Mercury Capri 2000         |23.0|4        |122.0       |86.00     |2220. |14.0        |71   |US    |\n",
            "|Datsun PL510               |27.0|4        |97.00       |88.00     |2130. |14.5        |70   |Japan |\n",
            "|Opel 1900                  |28.0|4        |116.0       |90.00     |2123. |14.0        |71   |Europe|\n",
            "|Peugeot 504                |25.0|4        |110.0       |87.00     |2672. |17.5        |70   |Europe|\n",
            "|Peugeot 304                |30.0|4        |79.00       |70.00     |2074. |19.5        |71   |Europe|\n",
            "|Saab 99e                   |25.0|4        |104.0       |95.00     |2375. |17.5        |70   |Europe|\n",
            "|Fiat 124B                  |30.0|4        |88.00       |76.00     |2065. |14.5        |71   |Europe|\n",
            "|Datsun PL510               |27.0|4        |97.00       |88.00     |2130. |14.5        |71   |Japan |\n",
            "|Toyota Corolla 1200        |31.0|4        |71.00       |65.00     |1773. |19.0        |71   |Japan |\n",
            "|Toyota Corolla             |25.0|4        |113.0       |95.00     |2228. |14.0        |71   |Japan |\n",
            "|Datsun 1200                |35.0|4        |72.00       |69.00     |1613. |18.0        |71   |Japan |\n",
            "|Volkswagen Super Beetle 117|0   |4        |97.00       |48.00     |1978. |20.0        |71   |Europe|\n",
            "|Volkswagen Model 111       |27.0|4        |97.00       |60.00     |1834. |19.0        |71   |Europe|\n",
            "+---------------------------+----+---------+------------+----------+------+------------+-----+------+\n",
            "only showing top 20 rows\n",
            "\n"
          ]
        }
      ]
    },
    {
      "cell_type": "code",
      "source": [
        "df.orderBy('Cylinders', ascending=False).show(truncate=False)"
      ],
      "metadata": {
        "colab": {
          "base_uri": "https://localhost:8080/"
        },
        "id": "S-yYI4MnoXtI",
        "outputId": "51af2b74-681e-4d25-ac81-f5b2421cb49d"
      },
      "execution_count": null,
      "outputs": [
        {
          "output_type": "stream",
          "name": "stdout",
          "text": [
            "+-------------------------+------+---------+------------+----------+------+------------+-----+------+\n",
            "|Car                      |MPG   |Cylinders|Displacement|Horsepower|Weight|Acceleration|Model|Origin|\n",
            "+-------------------------+------+---------+------------+----------+------+------------+-----+------+\n",
            "|STRING                   |DOUBLE|INT      |DOUBLE      |DOUBLE    |DOUBLE|DOUBLE      |INT  |CAT   |\n",
            "|Plymouth 'Cuda 340       |14.0  |8        |340.0       |160.0     |3609. |8.0         |70   |US    |\n",
            "|Chevrolet Chevelle Malibu|18.0  |8        |307.0       |130.0     |3504. |12.0        |70   |US    |\n",
            "|Ford Mustang Boss 302    |0     |8        |302.0       |140.0     |3353. |8.0         |70   |US    |\n",
            "|Buick Skylark 320        |15.0  |8        |350.0       |165.0     |3693. |11.5        |70   |US    |\n",
            "|Chevrolet Monte Carlo    |15.0  |8        |400.0       |150.0     |3761. |9.5         |70   |US    |\n",
            "|AMC Rebel SST            |16.0  |8        |304.0       |150.0     |3433. |12.0        |70   |US    |\n",
            "|Buick Estate Wagon (sw)  |14.0  |8        |455.0       |225.0     |3086. |10.0        |70   |US    |\n",
            "|Ford Galaxie 500         |15.0  |8        |429.0       |198.0     |4341. |10.0        |70   |US    |\n",
            "|Ford F250                |10.0  |8        |360.0       |215.0     |4615. |14.0        |70   |US    |\n",
            "|Plymouth Fury iii        |14.0  |8        |440.0       |215.0     |4312. |8.5         |70   |US    |\n",
            "|Chevy C20                |10.0  |8        |307.0       |200.0     |4376. |15.0        |70   |US    |\n",
            "|AMC Ambassador DPL       |15.0  |8        |390.0       |190.0     |3850. |8.5         |70   |US    |\n",
            "|Dodge D200               |11.0  |8        |318.0       |210.0     |4382. |13.5        |70   |US    |\n",
            "|Ford Torino (sw)         |0     |8        |351.0       |153.0     |4034. |11.0        |70   |US    |\n",
            "|Hi 1200D                 |9.0   |8        |304.0       |193.0     |4732. |18.5        |70   |US    |\n",
            "|AMC Rebel SST (sw)       |0     |8        |360.0       |175.0     |3850. |11.0        |70   |US    |\n",
            "|Chevrolet Impala         |14.0  |8        |350.0       |165.0     |4209. |12.0        |71   |US    |\n",
            "|Dodge Challenger SE      |15.0  |8        |383.0       |170.0     |3563. |10.0        |70   |US    |\n",
            "|Pontiac Catalina Brougham|14.0  |8        |400.0       |175.0     |4464. |11.5        |71   |US    |\n",
            "+-------------------------+------+---------+------------+----------+------+------------+-----+------+\n",
            "only showing top 20 rows\n",
            "\n"
          ]
        }
      ]
    },
    {
      "cell_type": "code",
      "source": [
        "df.groupBy('Origin').count().orderBy('count', ascending=False).show(10)"
      ],
      "metadata": {
        "colab": {
          "base_uri": "https://localhost:8080/"
        },
        "id": "6ZTbE1PKoflG",
        "outputId": "60812be0-f236-4490-a6a8-2143f0d10906"
      },
      "execution_count": null,
      "outputs": [
        {
          "output_type": "stream",
          "name": "stdout",
          "text": [
            "+------+-----+\n",
            "|Origin|count|\n",
            "+------+-----+\n",
            "|    US|  254|\n",
            "| Japan|   79|\n",
            "|Europe|   73|\n",
            "|   CAT|    1|\n",
            "+------+-----+\n",
            "\n"
          ]
        }
      ]
    },
    {
      "cell_type": "markdown",
      "source": [
        "## Filtros"
      ],
      "metadata": {
        "id": "yLmsc--8owtB"
      }
    },
    {
      "cell_type": "code",
      "source": [
        "total_count = df.count()\n",
        "print('Total de registros: ' , total_count)"
      ],
      "metadata": {
        "colab": {
          "base_uri": "https://localhost:8080/"
        },
        "id": "cN0Buu87oyn5",
        "outputId": "47473d01-789e-4264-b4ab-7214647eb733"
      },
      "execution_count": null,
      "outputs": [
        {
          "output_type": "stream",
          "name": "stdout",
          "text": [
            "Total de registros:  407\n"
          ]
        }
      ]
    },
    {
      "cell_type": "code",
      "source": [
        "europa = df.filter(col('Origin')=='Europe').count()\n",
        "print('Total de registros en Europa: ', europa)"
      ],
      "metadata": {
        "colab": {
          "base_uri": "https://localhost:8080/"
        },
        "id": "lrBEJjARpA7j",
        "outputId": "8c4d32f9-5198-4b98-e99a-47dda2f4e4ba"
      },
      "execution_count": null,
      "outputs": [
        {
          "output_type": "stream",
          "name": "stdout",
          "text": [
            "Total de registros en Europa:  73\n"
          ]
        }
      ]
    },
    {
      "cell_type": "code",
      "source": [
        "total_count = df.count()\n",
        "print('Total de registros: ' , total_count)\n",
        "\n",
        "usa = df.filter((col('Origin')=='US') & (col('Horsepower')=='175.0')).count()\n",
        "print('Total de registros: ', usa)"
      ],
      "metadata": {
        "colab": {
          "base_uri": "https://localhost:8080/"
        },
        "id": "rvjclwRipYWs",
        "outputId": "fe6947b9-1d51-4b85-d4e9-6cf9c74dd1bb"
      },
      "execution_count": null,
      "outputs": [
        {
          "output_type": "stream",
          "name": "stdout",
          "text": [
            "Total de registros:  407\n",
            "Total de registros:  7\n"
          ]
        }
      ]
    },
    {
      "cell_type": "markdown",
      "source": [],
      "metadata": {
        "id": "FwSK1Tn_pIXX"
      }
    }
  ]
}